{
 "cells": [
  {
   "cell_type": "code",
   "execution_count": 11,
   "id": "b30717ad",
   "metadata": {},
   "outputs": [
    {
     "name": "stdout",
     "output_type": "stream",
     "text": [
      "Good Morning\n"
     ]
    }
   ],
   "source": [
    "print(\"Good Morning\")"
   ]
  },
  {
   "cell_type": "code",
   "execution_count": 12,
   "id": "86becd21",
   "metadata": {},
   "outputs": [],
   "source": [
    "a= [1, \"red\", \"r\", 3+4j]"
   ]
  },
  {
   "cell_type": "code",
   "execution_count": 13,
   "id": "340e1aee",
   "metadata": {},
   "outputs": [
    {
     "name": "stdout",
     "output_type": "stream",
     "text": [
      "[1, 'red', 'r', (3+4j)]\n",
      "[10, 'red', 'r', (3+4j)]\n",
      "[100, 'red', 'r', (3+4j)]\n",
      "[100, 'red', 'r', (3+4j)]\n"
     ]
    }
   ],
   "source": [
    "print(a)\n",
    "a[0] = 10\n",
    "print(a)\n",
    "b=a\n",
    "b[0] = 100\n",
    "print(b)\n",
    "print(a)\n",
    "\n",
    "\n"
   ]
  },
  {
   "cell_type": "code",
   "execution_count": 14,
   "id": "f9e632ab",
   "metadata": {},
   "outputs": [
    {
     "name": "stdout",
     "output_type": "stream",
     "text": [
      "how are you doing ,i am doing well what should i do\n"
     ]
    }
   ],
   "source": [
    "a = \"how are you doing ,i am doing \\\n",
    "well what should i do\"\n",
    "print(a)\n"
   ]
  },
  {
   "cell_type": "code",
   "execution_count": 15,
   "id": "b44df9a0",
   "metadata": {},
   "outputs": [
    {
     "data": {
      "text/plain": [
       "1827546782656"
      ]
     },
     "execution_count": 15,
     "metadata": {},
     "output_type": "execute_result"
    }
   ],
   "source": [
    "l= [1, 2, 3, 4, 5]\n",
    "t= (1, 'fire', 3, 4, 5j+3)\n",
    "s= {1, 2,2,4, 3, 4, 5}\n",
    "d= {'a':1, 'b':2, 'c':3}\n",
    "l,t,s,d\n",
    "\n",
    "id(l)\n",
    "\n",
    "\n",
    "\n"
   ]
  },
  {
   "cell_type": "code",
   "execution_count": 16,
   "id": "54639e15",
   "metadata": {},
   "outputs": [
    {
     "name": "stdout",
     "output_type": "stream",
     "text": [
      "False\n",
      "True\n",
      "True\n",
      "1827520978688\n",
      "1827546960320\n",
      "1827520978688\n"
     ]
    },
    {
     "data": {
      "text/plain": [
       "1827520978688"
      ]
     },
     "execution_count": 16,
     "metadata": {},
     "output_type": "execute_result"
    }
   ],
   "source": [
    "x=[\"apple\",\"banana\"]\n",
    "y=[\"apple\",\"banana\"]\n",
    "z=x\n",
    "print(x is y)\n",
    "print(x is z)\n",
    "print(x == y)\n",
    "print(id(x))\n",
    "print(id(y))\n",
    "print(id(z))\n",
    "id(x)\n",
    "\n",
    "\n",
    "\n"
   ]
  },
  {
   "cell_type": "code",
   "execution_count": 17,
   "id": "3eee2ce1",
   "metadata": {},
   "outputs": [
    {
     "data": {
      "text/plain": [
       "<function __main__.func_readout()>"
      ]
     },
     "execution_count": 17,
     "metadata": {},
     "output_type": "execute_result"
    }
   ],
   "source": [
    "def func_readout():\n",
    "    print(\"how are you doing \")\n",
    "\n",
    "func_readout"
   ]
  },
  {
   "cell_type": "code",
   "execution_count": 18,
   "id": "cd8b79f7",
   "metadata": {},
   "outputs": [
    {
     "name": "stdout",
     "output_type": "stream",
     "text": [
      "how are you doing \n"
     ]
    }
   ],
   "source": [
    "func_readout()"
   ]
  },
  {
   "cell_type": "code",
   "execution_count": 19,
   "id": "c19b5c97",
   "metadata": {},
   "outputs": [
    {
     "data": {
      "text/plain": [
       "'Redwhite'"
      ]
     },
     "execution_count": 19,
     "metadata": {},
     "output_type": "execute_result"
    }
   ],
   "source": [
    "def func_new1(a,b):\n",
    "    c=a+b\n",
    "    return c\n",
    "\n",
    "func_new1(10,20)\n",
    "func_new1(\"Red\",\"white\")\n",
    "\n",
    "\n"
   ]
  },
  {
   "cell_type": "code",
   "execution_count": 20,
   "id": "54f0cabf",
   "metadata": {},
   "outputs": [
    {
     "data": {
      "text/plain": [
       "'how are you doing ,i am doing well what should i do'"
      ]
     },
     "execution_count": 20,
     "metadata": {},
     "output_type": "execute_result"
    }
   ],
   "source": [
    "a\n"
   ]
  },
  {
   "cell_type": "code",
   "execution_count": 22,
   "id": "64e1be8a",
   "metadata": {},
   "outputs": [
    {
     "name": "stdout",
     "output_type": "stream",
     "text": [
      "Hello from Dinesh!\n"
     ]
    }
   ],
   "source": [
    "import main\n",
    "main.main()"
   ]
  },
  {
   "cell_type": "code",
   "execution_count": 23,
   "id": "3e9bca3e",
   "metadata": {},
   "outputs": [
    {
     "data": {
      "text/plain": [
       "['In',\n",
       " 'Out',\n",
       " '_',\n",
       " '_10',\n",
       " '_15',\n",
       " '_16',\n",
       " '_17',\n",
       " '_19',\n",
       " '_2',\n",
       " '_20',\n",
       " '_9',\n",
       " '__',\n",
       " '___',\n",
       " '__builtin__',\n",
       " '__builtins__',\n",
       " '__doc__',\n",
       " '__loader__',\n",
       " '__name__',\n",
       " '__package__',\n",
       " '__spec__',\n",
       " '__vsc_ipynb_file__',\n",
       " '_dh',\n",
       " '_i',\n",
       " '_i1',\n",
       " '_i10',\n",
       " '_i11',\n",
       " '_i12',\n",
       " '_i13',\n",
       " '_i14',\n",
       " '_i15',\n",
       " '_i16',\n",
       " '_i17',\n",
       " '_i18',\n",
       " '_i19',\n",
       " '_i2',\n",
       " '_i20',\n",
       " '_i21',\n",
       " '_i22',\n",
       " '_i23',\n",
       " '_i3',\n",
       " '_i4',\n",
       " '_i5',\n",
       " '_i6',\n",
       " '_i7',\n",
       " '_i8',\n",
       " '_i9',\n",
       " '_ih',\n",
       " '_ii',\n",
       " '_iii',\n",
       " '_oh',\n",
       " 'a',\n",
       " 'b',\n",
       " 'd',\n",
       " 'exit',\n",
       " 'func_new1',\n",
       " 'func_readout',\n",
       " 'get_ipython',\n",
       " 'l',\n",
       " 'main',\n",
       " 'open',\n",
       " 'quit',\n",
       " 's',\n",
       " 't',\n",
       " 'x',\n",
       " 'y',\n",
       " 'z']"
      ]
     },
     "execution_count": 23,
     "metadata": {},
     "output_type": "execute_result"
    }
   ],
   "source": [
    "dir()"
   ]
  },
  {
   "cell_type": "code",
   "execution_count": 2,
   "id": "0da630b3",
   "metadata": {},
   "outputs": [
    {
     "name": "stdout",
     "output_type": "stream",
     "text": [
      "19\n"
     ]
    }
   ],
   "source": [
    "x=lambda a,b : a+b\n",
    "print(x(9,10))"
   ]
  },
  {
   "cell_type": "markdown",
   "id": "6d79ab9a",
   "metadata": {},
   "source": [
    "# class\n"
   ]
  },
  {
   "cell_type": "code",
   "execution_count": 11,
   "id": "e1b4cb95",
   "metadata": {},
   "outputs": [
    {
     "name": "stdout",
     "output_type": "stream",
     "text": [
      "Inside: 3162274042880\n",
      "3162274042880\n",
      "Inside: 3162273704976\n",
      "3162273704976\n"
     ]
    },
    {
     "data": {
      "text/plain": [
       "(5, 6)"
      ]
     },
     "execution_count": 11,
     "metadata": {},
     "output_type": "execute_result"
    }
   ],
   "source": [
    "class Rectangle:\n",
    "    def __init__(superself,w,h):\n",
    "        superself.widht = w\n",
    "        superself.height = h\n",
    "        print(\"Inside:\",id(superself))\n",
    "\n",
    "r1 = Rectangle(5,4)\n",
    "print(id(r1))\n",
    "r2= Rectangle(6,7)\n",
    "print(id(r2))\n",
    "r1.widht ,r2.widht"
   ]
  },
  {
   "cell_type": "code",
   "execution_count": null,
   "id": "a50c90f2",
   "metadata": {},
   "outputs": [],
   "source": []
  }
 ],
 "metadata": {
  "kernelspec": {
   "display_name": "Python 3",
   "language": "python",
   "name": "python3"
  },
  "language_info": {
   "codemirror_mode": {
    "name": "ipython",
    "version": 3
   },
   "file_extension": ".py",
   "mimetype": "text/x-python",
   "name": "python",
   "nbconvert_exporter": "python",
   "pygments_lexer": "ipython3",
   "version": "3.13.7"
  }
 },
 "nbformat": 4,
 "nbformat_minor": 5
}
